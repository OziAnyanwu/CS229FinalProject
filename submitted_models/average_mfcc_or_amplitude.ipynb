{
 "cells": [
  {
   "cell_type": "code",
   "execution_count": 26,
   "metadata": {},
   "outputs": [
    {
     "name": "stdout",
     "output_type": "stream",
     "text": [
      "(0.7611874169251218, 0.7452242399151775, 0.6981891348088531, 0.7922593450215019)\n"
     ]
    }
   ],
   "source": [
    "import numpy as np\n",
    "import matplotlib.pyplot as plt\n",
    "from sklearn import model_selection\n",
    "\n",
    "def main():\n",
    "    X = np.load(\"../util/X_mfccs/X_mfccs_4000.npy\")\n",
    "    X = np.reshape(X, (X.shape[0], -1))\n",
    "    y = np.load(\"../util/labels/labels_4000.npy\")\n",
    "    x_train, x_valid, y_train, y_valid = model_selection.train_test_split(X, y, test_size=0.10, random_state=42)\n",
    "    avg_0, avg_1 = find_averages(x_train, y_train)\n",
    "    \n",
    "    predictions = predict(avg_0, avg_1, x_valid)\n",
    "    \n",
    "    TP, TN, FP, FN = find_counts(predictions, y_valid)\n",
    "    print(find_accuracies(TP, TN, FP, FN))\n",
    "    \n",
    "    \n",
    "def find_averages(x_train, y_train):\n",
    "    avg_0 = 0\n",
    "    num_0 = 0\n",
    "    avg_1 = 0\n",
    "    num_1 = 0\n",
    "    for i in range(y_train.shape[0]):\n",
    "        if y_train[i] == 0:\n",
    "            avg_0 += np.linalg.norm(x_train[i])\n",
    "            num_0 += 1\n",
    "        elif y_train[i] == 1:\n",
    "            avg_1 += np.linalg.norm(x_train[i])\n",
    "            num_1 += 1\n",
    "    avg_0 /= num_0\n",
    "    avg_1 /= num_1\n",
    "    return (avg_0, avg_1)\n",
    "    \n",
    "def predict(avg_0, avg_1, x_valid):\n",
    "    predictions = []\n",
    "    for x in x_valid:\n",
    "        if np.abs(np.linalg.norm(x) - avg_0) < np.abs(np.linalg.norm(x) - avg_1):\n",
    "            predictions.append(0)\n",
    "        else:\n",
    "            predictions.append(1)\n",
    "    return np.array(predictions)\n",
    "\n",
    "def find_counts(predictions, truth):\n",
    "    TP = 0; TN = 0; FP = 0; FN = 0\n",
    "    for i in range(predictions.shape[0]):\n",
    "        if predictions[i] < 0.5 and truth[i] == 0:\n",
    "            TN += 1\n",
    "        elif predictions[i] >= 0.5 and truth[i] == 1:\n",
    "            TP += 1\n",
    "        elif predictions[i] < 0.5 and truth[i] == 1:\n",
    "            FN += 1\n",
    "        elif predictions[i] >= 0.5 and truth[i] == 0:\n",
    "            FP += 1\n",
    "    return TP, TN, FP, FN\n",
    "\n",
    "def find_accuracies(TP, TN, FP, FN):\n",
    "    accuracy = (TP + TN) / (TP + TN + FP + FN)\n",
    "    a_0 = TP / (TP + FN)\n",
    "    a_1 = TN / (TN + FP)\n",
    "    balanced_accuracy = 1/2 * (a_0 + a_1)\n",
    "    return accuracy, balanced_accuracy, a_0, a_1\n",
    "    \n",
    "    \n",
    "if __name__ == '__main__':\n",
    "    main()"
   ]
  },
  {
   "cell_type": "code",
   "execution_count": null,
   "metadata": {},
   "outputs": [],
   "source": []
  }
 ],
 "metadata": {
  "kernelspec": {
   "display_name": "cs229proj",
   "language": "python",
   "name": "cs229proj"
  },
  "language_info": {
   "codemirror_mode": {
    "name": "ipython",
    "version": 3
   },
   "file_extension": ".py",
   "mimetype": "text/x-python",
   "name": "python",
   "nbconvert_exporter": "python",
   "pygments_lexer": "ipython3",
   "version": "3.8.5"
  }
 },
 "nbformat": 4,
 "nbformat_minor": 4
}
