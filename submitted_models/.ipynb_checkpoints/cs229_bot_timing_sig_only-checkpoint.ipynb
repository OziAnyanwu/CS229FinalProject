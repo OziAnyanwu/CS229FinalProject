{
 "cells": [
  {
   "cell_type": "markdown",
   "metadata": {},
   "source": [
    "STAGE 1 DATA PREPROCESSING"
   ]
  },
  {
   "cell_type": "code",
   "execution_count": null,
   "metadata": {},
   "outputs": [],
   "source": [
    "#GET THE DATA FIRST"
   ]
  },
  {
   "cell_type": "code",
   "execution_count": null,
   "metadata": {},
   "outputs": [],
   "source": [
    "import tensorflow as tf\n",
    "import librosa as lr\n",
    "import numpy as np\n",
    "import matplotlib.pyplot as plt\n",
    "import json\n",
    "import random\n",
    "import os\n",
    "from IPython.display import display, Audio\n",
    "from sklearn.model_selection import train_test_split"
   ]
  },
  {
   "cell_type": "code",
   "execution_count": null,
   "metadata": {},
   "outputs": [],
   "source": [
    "EPOCHS = 20\n",
    "BATCH_SIZE = 64\n",
    "LEARNING_RATE = 0.0001"
   ]
  },
  {
   "cell_type": "code",
   "execution_count": null,
   "metadata": {},
   "outputs": [],
   "source": [
    "#EXTRACT INPUTS AND TARGETS"
   ]
  },
  {
   "cell_type": "code",
   "execution_count": null,
   "metadata": {},
   "outputs": [],
   "source": [
    "X_mfccs = np.load('../util/X_mfccs_2000.npy')\n",
    "Y = np.load('../util/labels_2000.npy')\n"
   ]
  },
  {
   "cell_type": "code",
   "execution_count": null,
   "metadata": {},
   "outputs": [],
   "source": [
    "#LOAD TRAIN AND TEST SPLITS"
   ]
  },
  {
   "cell_type": "code",
   "execution_count": null,
   "metadata": {},
   "outputs": [],
   "source": [
    "X_train_mfcc, X_test_mfcc, y_train, y_test = train_test_split(X_mfccs,Y,test_size=0.1)\n",
    "print(X_train_mfcc.shape)\n",
    "print(y_train.shape)"
   ]
  },
  {
   "cell_type": "code",
   "execution_count": null,
   "metadata": {},
   "outputs": [],
   "source": [
    "mu = np.mean(X_train_mfcc,axis=0)\n",
    "std_dev = np.std(X_train_mfcc,axis=0)\n",
    "X_train_mfcc -= mu\n",
    "X_test_mfcc -= mu\n",
    "X_train_mfcc /= std_dev\n",
    "X_test_mfcc /= std_dev\n",
    "print(X_train_mfcc.shape)"
   ]
  },
  {
   "cell_type": "code",
   "execution_count": null,
   "metadata": {},
   "outputs": [],
   "source": [
    "X_train_mfcc = X_train_mfcc[...,np.newaxis]"
   ]
  },
  {
   "cell_type": "code",
   "execution_count": null,
   "metadata": {},
   "outputs": [],
   "source": [
    "X_train_mfcc[0].shape\n",
    "X_train_mfcc.shape"
   ]
  },
  {
   "cell_type": "markdown",
   "metadata": {},
   "source": []
  },
  {
   "cell_type": "markdown",
   "metadata": {},
   "source": []
  },
  {
   "cell_type": "markdown",
   "metadata": {},
   "source": []
  },
  {
   "cell_type": "markdown",
   "metadata": {},
   "source": []
  },
  {
   "cell_type": "markdown",
   "metadata": {},
   "source": []
  },
  {
   "cell_type": "markdown",
   "metadata": {},
   "source": [
    "STAGE 2 BUILDING AND COMPILING THE MODEL"
   ]
  },
  {
   "cell_type": "code",
   "execution_count": null,
   "metadata": {},
   "outputs": [],
   "source": [
    "#BUILD THE MODEL"
   ]
  },
  {
   "cell_type": "code",
   "execution_count": null,
   "metadata": {},
   "outputs": [],
   "source": [
    "# model_mfcc = tf.keras.Sequential()\n",
    "\n",
    "#conv layer 1\n",
    "mfcc_input = tf.keras.layers.Input(shape=X_train_mfcc[0].shape, name='mfcc_input')\n",
    "conv1 = tf.keras.layers.Conv2D(128,(3,3),\n",
    "                                 activation='relu',\n",
    "                                 input_shape=X_train_mfcc[0].shape,\n",
    "                                 kernel_regularizer=tf.keras.regularizers.l2(0.001))(mfcc_input)\n",
    "norm1 = tf.keras.layers.BatchNormalization()(conv1)\n",
    "pool1 = tf.keras.layers.MaxPool2D((3,3),strides=(2,2),padding='same')(norm1)\n",
    "\n",
    "#conv layer 2\n",
    "conv2 = tf.keras.layers.Conv2D(64,(3,3),\n",
    "                                 activation='relu',\n",
    "                                 kernel_regularizer=tf.keras.regularizers.l2(0.001))(pool1)\n",
    "norm2 = tf.keras.layers.BatchNormalization()(conv2)\n",
    "pool2 = tf.keras.layers.MaxPool2D((3,3),strides=(2,2),padding='same')(norm2)\n",
    "\n",
    "\n",
    "#conv layer 3\n",
    "conv3 = tf.keras.layers.Conv2D(32,(2,2),\n",
    "                                 activation='relu',\n",
    "                                 kernel_regularizer=tf.keras.regularizers.l2(0.001))(pool2)\n",
    "norm3 = tf.keras.layers.BatchNormalization()(conv3)\n",
    "pool3 = tf.keras.layers.MaxPool2D((2,2),strides=(2,2),padding='same')(norm3)\n",
    "\n",
    "\n",
    "\n",
    "# #flatten output\n",
    "flat = tf.keras.layers.Flatten()(pool3)\n",
    "dense1 = tf.keras.layers.Dense(64,activation = 'relu')(flat)\n",
    "drop1 = tf.keras.layers.Dropout(0.25)(dense1)\n",
    "\n",
    "dense2 = tf.keras.layers.Dense(64,activation = 'relu')(drop1)\n",
    "drop2 = tf.keras.layers.Dropout(0.25)(dense2)"
   ]
  },
  {
   "cell_type": "code",
   "execution_count": null,
   "metadata": {},
   "outputs": [],
   "source": [
    "#output layer\n",
    "output = tf.keras.layers.Dense(1,activation='sigmoid')(drop2)\n",
    "model = tf.keras.Model(inputs=[mfcc_input],outputs=output)"
   ]
  },
  {
   "cell_type": "code",
   "execution_count": null,
   "metadata": {},
   "outputs": [],
   "source": []
  },
  {
   "cell_type": "code",
   "execution_count": null,
   "metadata": {},
   "outputs": [],
   "source": [
    "#COMPILE"
   ]
  },
  {
   "cell_type": "code",
   "execution_count": null,
   "metadata": {
    "scrolled": true
   },
   "outputs": [],
   "source": [
    "op = tf.keras.optimizers.Adam(learning_rate=0.0001)\n",
    "model.compile(loss='binary_crossentropy',optimizer=op, metrics=['accuracy'])\n",
    "model.summary()"
   ]
  },
  {
   "cell_type": "code",
   "execution_count": null,
   "metadata": {},
   "outputs": [],
   "source": [
    "#FIT"
   ]
  },
  {
   "cell_type": "code",
   "execution_count": null,
   "metadata": {
    "scrolled": true
   },
   "outputs": [],
   "source": [
    "result = model.fit([X_train_mfcc],y_train, epochs = EPOCHS, batch_size = BATCH_SIZE,validation_split = 0.2)"
   ]
  },
  {
   "cell_type": "code",
   "execution_count": null,
   "metadata": {},
   "outputs": [],
   "source": [
    "history = result.history\n",
    "tr_acc = history['accuracy']\n",
    "val_acc = history['val_accuracy']\n",
    "epochs = range(1, len(tr_acc)+1)"
   ]
  },
  {
   "cell_type": "code",
   "execution_count": null,
   "metadata": {},
   "outputs": [],
   "source": [
    "plt.figure(figsize=(12,9))\n",
    "plt.plot(epochs,tr_acc,'bo',label='Training acc')\n",
    "plt.plot(epochs,val_acc,'b',label='Validation acc')\n",
    "plt.title('Training and Val Accuracy')\n",
    "plt.xlabel('epochs')\n",
    "plt.ylabel('accuracy')\n",
    "plt.legend(loc='lower right')\n",
    "plt.ylim((0.3,1))\n",
    "plt.show()"
   ]
  },
  {
   "cell_type": "code",
   "execution_count": null,
   "metadata": {},
   "outputs": [],
   "source": [
    "#INFERENCE:"
   ]
  },
  {
   "cell_type": "code",
   "execution_count": null,
   "metadata": {},
   "outputs": [],
   "source": [
    "results = model.evaluate([X_test_mfcc],y_test)"
   ]
  },
  {
   "cell_type": "code",
   "execution_count": null,
   "metadata": {},
   "outputs": [],
   "source": [
    "#ERROR ANALYSIS:"
   ]
  },
  {
   "cell_type": "code",
   "execution_count": null,
   "metadata": {},
   "outputs": [],
   "source": [
    "predictions = model.predict([X_test_mfcc])\n",
    "valid_indexes = []\n",
    "invalid_indexes=[]\n",
    "for i in range(len(y_test)):\n",
    "    if(y_test[i] == 0):\n",
    "        invalid_indexes.append(i)\n",
    "    else:\n",
    "        valid_indexes.append(i)"
   ]
  },
  {
   "cell_type": "code",
   "execution_count": null,
   "metadata": {},
   "outputs": [],
   "source": [
    "def get_pred(val):\n",
    "    return np.around(val)\n",
    "print(\"PERFORMANCE ON POSITIVE EXAMPLES:\")\n",
    "total_pos = 0\n",
    "total_right_pops = 0\n",
    "for i in valid_indexes:\n",
    "    total_pos += 1\n",
    "    if(get_pred(predictions[i]) == get_pred(y_test[i])):\n",
    "        total_right_pops += 1\n",
    "    print(\"Prediction: \",get_pred(predictions[i]),\". Label: \", get_pred(y_test[i]))\n",
    "    \n",
    "print(\"TOTAL POSITIVE EXMPLES: \", total_pos)\n",
    "print(\"TOTAL CORRECT POSITIVE:\", total_right_pops)\n",
    "print(\"POSITIVE EXAMPLES ACC: \", total_right_pops/total_pos)"
   ]
  },
  {
   "cell_type": "code",
   "execution_count": null,
   "metadata": {},
   "outputs": [],
   "source": [
    "print(\"PERFORMANCE ON NEGATIVE EXAMPLES:\")\n",
    "total_neg = 0\n",
    "total_right_neg = 0\n",
    "for i in invalid_indexes:\n",
    "    total_neg += 1\n",
    "    if(get_pred(predictions[i]) == get_pred(y_test[i])):\n",
    "        total_right_neg += 1\n",
    "    print(\"Prediction: \", get_pred(predictions[i]),\". Label: \",get_pred(y_test[i]))\n",
    "print(\"TOTAL NEGATIVE EXMPLES: \", total_neg)\n",
    "print(\"TOTAL CORRECT NEGATIVE:\", total_right_neg)\n",
    "print(\"NEGATIVE EXAMPLES ACC: \", total_right_neg/total_neg)"
   ]
  },
  {
   "cell_type": "code",
   "execution_count": null,
   "metadata": {},
   "outputs": [],
   "source": [
    "print(\"TOTAL EXMPLES: \", total_neg + total_pos)\n",
    "print(\"TOTAL CORRECT :\", total_right_neg + total_right_pops)\n",
    "print(\"ACC: \", (total_right_neg + total_right_pops)/(total_neg + total_pos))"
   ]
  },
  {
   "cell_type": "code",
   "execution_count": null,
   "metadata": {},
   "outputs": [],
   "source": []
  },
  {
   "cell_type": "code",
   "execution_count": null,
   "metadata": {},
   "outputs": [],
   "source": []
  },
  {
   "cell_type": "code",
   "execution_count": null,
   "metadata": {},
   "outputs": [],
   "source": []
  },
  {
   "cell_type": "code",
   "execution_count": null,
   "metadata": {},
   "outputs": [],
   "source": []
  },
  {
   "cell_type": "code",
   "execution_count": null,
   "metadata": {},
   "outputs": [],
   "source": []
  },
  {
   "cell_type": "code",
   "execution_count": null,
   "metadata": {},
   "outputs": [],
   "source": []
  },
  {
   "cell_type": "code",
   "execution_count": null,
   "metadata": {},
   "outputs": [],
   "source": []
  },
  {
   "cell_type": "code",
   "execution_count": null,
   "metadata": {},
   "outputs": [],
   "source": []
  },
  {
   "cell_type": "code",
   "execution_count": null,
   "metadata": {},
   "outputs": [],
   "source": []
  },
  {
   "cell_type": "code",
   "execution_count": null,
   "metadata": {},
   "outputs": [],
   "source": []
  },
  {
   "cell_type": "code",
   "execution_count": null,
   "metadata": {},
   "outputs": [],
   "source": [
    "#OLD MODEL"
   ]
  },
  {
   "cell_type": "code",
   "execution_count": null,
   "metadata": {},
   "outputs": [],
   "source": [
    "model = tf.keras.Sequential()\n",
    "\n",
    "#conv layer 1\n",
    "model.add(tf.keras.layers.Conv2D(64,(3,3),\n",
    "                                 activation='relu',\n",
    "                                 input_shape=X_train[0].shape,\n",
    "                                 kernel_regularizer=tf.keras.regularizers.l2(0.001)))\n",
    "model.add(tf.keras.layers.BatchNormalization())\n",
    "model.add(tf.keras.layers.MaxPool2D((3,3),strides=(2,2),padding='same'))\n",
    "\n",
    "#conv layer 2\n",
    "model.add(tf.keras.layers.Conv2D(32,(3,3),\n",
    "                                 activation='relu',\n",
    "                                 kernel_regularizer=tf.keras.regularizers.l2(0.001)))\n",
    "model.add(tf.keras.layers.BatchNormalization())\n",
    "model.add(tf.keras.layers.MaxPool2D((3,3),strides=(2,2),padding='same'))\n",
    "\n",
    "#conv layer 3\n",
    "model.add(tf.keras.layers.Conv2D(32,(2,2),\n",
    "                                 activation='relu',\n",
    "                                 kernel_regularizer=tf.keras.regularizers.l2(0.001)))\n",
    "model.add(tf.keras.layers.BatchNormalization())\n",
    "model.add(tf.keras.layers.MaxPool2D((2,2),strides=(2,2),padding='same'))\n",
    "\n",
    "#flatten output\n",
    "model.add(tf.keras.layers.Flatten())\n",
    "model.add(tf.keras.layers.Dense(64,activation = 'relu'))\n",
    "model.add(tf.keras.layers.Dropout(0.3))\n",
    "\n",
    "#flatten output\n",
    "model.add(tf.keras.layers.Dense(64,activation = 'relu'))\n",
    "model.add(tf.keras.layers.Dropout(0.3))\n",
    "\n",
    "#output layer\n",
    "model.add(tf.keras.layers.Dense(1,activation='sigmoid'))"
   ]
  },
  {
   "cell_type": "code",
   "execution_count": null,
   "metadata": {
    "scrolled": true
   },
   "outputs": [],
   "source": [
    "op = tf.keras.optimizers.Adam(learning_rate=LEARNING_RATE)\n",
    "model.compile(loss='binary_crossentropy',optimizer=op, metrics=['accuracy'])\n",
    "model.summary()"
   ]
  },
  {
   "cell_type": "markdown",
   "metadata": {},
   "source": []
  },
  {
   "cell_type": "markdown",
   "metadata": {},
   "source": []
  },
  {
   "cell_type": "markdown",
   "metadata": {},
   "source": []
  },
  {
   "cell_type": "markdown",
   "metadata": {},
   "source": []
  },
  {
   "cell_type": "markdown",
   "metadata": {},
   "source": [
    "TRAIN MODEL"
   ]
  },
  {
   "cell_type": "code",
   "execution_count": null,
   "metadata": {
    "scrolled": true
   },
   "outputs": [],
   "source": [
    "model.fit(X_train,y_train, epochs = EPOCHS, batch_size = BATCH_SIZE,validation_split = 0.2)"
   ]
  }
 ],
 "metadata": {
  "kernelspec": {
   "display_name": "Python 3",
   "language": "python",
   "name": "python3"
  },
  "language_info": {
   "codemirror_mode": {
    "name": "ipython",
    "version": 3
   },
   "file_extension": ".py",
   "mimetype": "text/x-python",
   "name": "python",
   "nbconvert_exporter": "python",
   "pygments_lexer": "ipython3",
   "version": "3.8.5"
  }
 },
 "nbformat": 4,
 "nbformat_minor": 4
}
