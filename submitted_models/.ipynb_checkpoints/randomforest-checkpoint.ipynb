{
 "cells": [
  {
   "cell_type": "code",
   "execution_count": null,
   "metadata": {},
   "outputs": [],
   "source": [
    "from sklearn.ensemble import RandomForestClassifier\n",
    "from sklearn import model_selection\n",
    "import numpy as np\n",
    "from joblib import dump, load\n",
    "\n",
    "WINDOW_SIZE = 4000\n",
    "def find_counts(predictions, truth, clips):\n",
    "    TP = 0; TN = 0; FP = 0; FN = 0\n",
    "    false_positives = []\n",
    "    false_negatives = []\n",
    "    for i in range(predictions.shape[0]):\n",
    "        if predictions[i] < 0.5 and truth[i] == 0:\n",
    "            TN += 1\n",
    "        elif predictions[i] >= 0.5 and truth[i] == 1:\n",
    "            TP += 1\n",
    "        elif predictions[i] < 0.5 and truth[i] == 1:\n",
    "            FN += 1\n",
    "            false_negatives.append(clips[i])\n",
    "        elif predictions[i] >= 0.5 and truth[i] == 0:\n",
    "            FP += 1\n",
    "            false_positives.append(clips[i])\n",
    "            \n",
    "    print(\"TOTAL_POSITIVE:\", TP + FP)\n",
    "    print(\"TOTAL_NEGATIVE:\", TN + FN)\n",
    "    false_pos_clips = np.array(false_positives)\n",
    "    false_neg_clips = np.array(false_negatives)\n",
    "    np.save('../util/false_positives_rf_'+str(WINDOW_SIZE)+'.npy',false_pos_clips)\n",
    "    np.save('../util/false_negatives_rf_'+str(WINDOW_SIZE)+'.npy',false_neg_clips)\n",
    "    \n",
    "    return TP, TN, FP, FN\n",
    "\n",
    "def find_accuracies(TP, TN, FP, FN):\n",
    "    accuracy = (TP + TN) / (TP + TN + FP + FN)\n",
    "    a_0 = TP / (TP + FN)\n",
    "    a_1 = TN / (TN + FP)\n",
    "    balanced_accuracy = 1/2 * (a_0 + a_1)\n",
    "    return accuracy, balanced_accuracy, a_0, a_1\n",
    "\n",
    "def main():\n",
    "    # Load data\n",
    "    X = np.load('../util/X_mfccs_error_4000.npy')\n",
    "    X = np.reshape(X, (X.shape[0], -1))\n",
    "    clips = np.load('../util/X_clips_error_4000.npy')\n",
    "    y = np.load('../util/labels_error_4000.npy')\n",
    "    x_train, x_valid, clips_train, clips_valid, y_train, y_valid = model_selection.train_test_split(X, clips, y, test_size=0.10, random_state=42)\n",
    "    \n",
    "    # Train random forest classifier\n",
    "    clf = RandomForestClassifier().fit(x_train, y_train)\n",
    "    predictions = clf.predict(x_valid)\n",
    "    TP, TN, FP, FN = find_counts(predictions, y_valid, clips_valid)\n",
    "    print(find_accuracies(TP, TN, FP, FN))\n",
    "    dump(clf, 'rf.joblib')\n",
    "\n",
    "\n",
    "if __name__ == '__main__':\n",
    "    main()"
   ]
  },
  {
   "cell_type": "code",
   "execution_count": null,
   "metadata": {},
   "outputs": [],
   "source": []
  }
 ],
 "metadata": {
  "kernelspec": {
   "display_name": "Python 3",
   "language": "python",
   "name": "python3"
  },
  "language_info": {
   "codemirror_mode": {
    "name": "ipython",
    "version": 3
   },
   "file_extension": ".py",
   "mimetype": "text/x-python",
   "name": "python",
   "nbconvert_exporter": "python",
   "pygments_lexer": "ipython3",
   "version": "3.8.5"
  }
 },
 "nbformat": 4,
 "nbformat_minor": 4
}
